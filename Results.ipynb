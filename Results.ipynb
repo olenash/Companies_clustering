{
  "cells": [
    {
      "cell_type": "code",
      "execution_count": 1,
      "metadata": {
        "pycharm": {}
      },
      "outputs": [],
      "source": [
        "from IPython.display import HTML"
      ]
    },
    {
      "cell_type": "code",
      "execution_count": 2,
      "metadata": {
        "pycharm": {}
      },
      "outputs": [
        {
          "data": {
            "text/html": [
              "\u003cscript\u003e\n",
              "code_show\u003dtrue; \n",
              "function code_toggle() {\n",
              " if (code_show){\n",
              " $(\u0027div.input\u0027).hide();\n",
              " } else {\n",
              " $(\u0027div.input\u0027).show();\n",
              " }\n",
              " code_show \u003d !code_show\n",
              "} \n",
              "$( document ).ready(code_toggle);\n",
              "\u003c/script\u003e\n",
              "The raw code for this IPython notebook is by default hidden for easier reading.\n",
              "To toggle on/off the raw code, click \u003ca href\u003d\"javascript:code_toggle()\"\u003ehere\u003c/a\u003e."
            ],
            "text/plain": [
              "\u003cIPython.core.display.HTML object\u003e"
            ]
          },
          "execution_count": 2,
          "metadata": {},
          "output_type": "execute_result"
        }
      ],
      "source": [
        "HTML(\u0027\u0027\u0027\u003cscript\u003e\n",
        "code_show\u003dtrue; \n",
        "function code_toggle() {\n",
        " if (code_show){\n",
        " $(\u0027div.input\u0027).hide();\n",
        " } else {\n",
        " $(\u0027div.input\u0027).show();\n",
        " }\n",
        " code_show \u003d !code_show\n",
        "} \n",
        "$( document ).ready(code_toggle);\n",
        "\u003c/script\u003e\n",
        "The raw code for this IPython notebook is by default hidden for easier reading.\n",
        "To toggle on/off the raw code, click \u003ca href\u003d\"javascript:code_toggle()\"\u003ehere\u003c/a\u003e.\u0027\u0027\u0027)"
      ]
    },
    {
      "cell_type": "code",
      "execution_count": 3,
      "metadata": {
        "pycharm": {}
      },
      "outputs": [],
      "source": [
        "import pandas as pd\n",
        "import spacy\n",
        "import matplotlib.pyplot as plt\n",
        "import numpy as np\n",
        "import en_core_web_md\n",
        "from sklearn.feature_extraction.text import TfidfVectorizer"
      ]
    },
    {
      "cell_type": "code",
      "execution_count": 4,
      "metadata": {
        "pycharm": {}
      },
      "outputs": [],
      "source": [
        "def read_data(file_name, encoding):\n",
        "    return pd.read_csv(file_name, encoding\u003dencoding)"
      ]
    },
    {
      "cell_type": "code",
      "execution_count": 5,
      "metadata": {
        "pycharm": {}
      },
      "outputs": [],
      "source": "#Load data\ndata \u003d read_data(file_name\u003d\u0027companies.csv\u0027, encoding\u003d\u0027ISO-8859-1\u0027)\nnlp \u003d en_core_web_md.load()"
    },
    {
      "cell_type": "markdown",
      "metadata": {
        "pycharm": {}
      },
      "source": [
        "## Data cleaning, tokenization and transformation\n",
        "\n",
        "We\u0027ll use [Spacy](https://spacy.io/) a core library for NLP.\n",
        "\n",
        "First, we observe the description column and search for common patterns and things that are irrelevant for our core task - clustering. The first visible thing is that descriptions contain the company names and we can assume, that the last sentence is the information on headquarter location and foundation date. For example *\"A. O. Smith Corporation is headquartered in Milwaukee, Wisconsin.\"*,  *\"Accenture plc was founded in 1989 and is based in Dublin, Ireland.\"*\n",
        "Another noticeable thing is that some sentences contain information about company ticker symbol; they are also irrelevant for field description.\n",
        "So, we will search for sentences, that have words *founded, based, headquarter, headquartered, incorporated, trades, traded* and remove the whole sentence. "
      ]
    },
    {
      "cell_type": "code",
      "execution_count": 61,
      "metadata": {
        "pycharm": {}
      },
      "outputs": [],
      "source": [
        "remove_words \u003d [\u0027founded\u0027, \u0027based\u0027, \u0027headquarter\u0027, \u0027headquartered\u0027, \u0027incorporated\u0027,\u0027trades\u0027, \u0027traded\u0027]"
      ]
    },
    {
      "cell_type": "code",
      "execution_count": 7,
      "metadata": {
        "pycharm": {}
      },
      "outputs": [],
      "source": [
        "def check_sentences(list_of_sentences, words_to_search): \n",
        "    for sent in list_of_sentences: \n",
        "        tokens \u003d [token.text for token in nlp(sent)]\n",
        "        result \u003d any(elem in tokens for elem in words_to_search)\n",
        "        if result:\n",
        "            list_of_sentences.remove(sent)\n",
        "    return list_of_sentences"
      ]
    },
    {
      "cell_type": "markdown",
      "metadata": {
        "pycharm": {}
      },
      "source": [
        "Next, we will extract only independent parts of speech, to create the representation of the description, but without the company name, stopwords, named entities, conjunctions, ect.. We will extract only adjectives, adverbs, nouns, and verbs. "
      ]
    },
    {
      "cell_type": "markdown",
      "metadata": {
        "pycharm": {}
      },
      "source": [
        "As our core task is clustering, we want to create vector representation from given descriptions. There are several possible ways to do that. One way is to create TF-IDF vector representation - sparse representation, with dimentionality of the dictionary (num of unique words in all given description, that are independent parts of speech and length of tokens is more than 2 letters). Another way is to create a mean vector representation of words. Spacy model already has vector representations of common words (let\u0027s use function *get_token_vectors* to extract word tokens and list, that have vector representation on tokens). "
      ]
    },
    {
      "cell_type": "code",
      "execution_count": 22,
      "metadata": {
        "pycharm": {}
      },
      "outputs": [],
      "source": [
        "def get_token_vectors(text): \n",
        "    tags \u003d [\u0027ADJ\u0027, \u0027ADV\u0027, \u0027NOUN\u0027, \u0027VERB\u0027]\n",
        "    text \u003d nlp(text)\n",
        "    ftokens \u003d list(filter(lambda token: token.pos_ in tags and len(token.text)\u003e2\n",
        "                          and not token.is_stop and token.has_vector, text))\n",
        "    token_vec \u003d list(map(lambda v: v.vector , ftokens))\n",
        "    token_text \u003d list(map(lambda v: v.lower_, ftokens))\n",
        "    return token_text, token_vec\n",
        "\n",
        "def split_into_sentences(text, nlp):\n",
        "    text \u003d nlp(text)\n",
        "    return [sent.string.strip() for sent in text.sents]\n",
        "\n",
        "def custom_vectorizer(discr):\n",
        "    \"\"\"\n",
        "    Parse description into meaningful tokens\n",
        "    :param discr: company description\n",
        "    :return: list of tokens, list of vectors \n",
        "    \"\"\"\n",
        "    tokens, vectors \u003d [], []\n",
        "    sentences \u003d split_into_sentences(discr, nlp)\n",
        "    sentences \u003d check_sentences(sentences, remove_words)\n",
        "    for sent in sentences:\n",
        "        text, vec \u003d get_token_vectors(sent)\n",
        "        tokens.extend(text)\n",
        "        vectors.extend(vec)\n",
        "    return tokens, vectors\n",
        "\n",
        "def custom_tokenizer(discr):\n",
        "    \"\"\"\n",
        "    Parse description into meaningful tokens\n",
        "    :param discr: company description\n",
        "    :return: list of tokens \n",
        "    \"\"\"\n",
        "    tokens \u003d []\n",
        "    sentences \u003d split_into_sentences(discr, nlp)\n",
        "    sentences \u003d check_sentences(sentences, remove_words)\n",
        "    for sent in sentences:\n",
        "        text, _ \u003d get_token_vectors(sent)\n",
        "        tokens.extend(text)\n",
        "    return tokens\n",
        "\n",
        "def calc_mean_vect(list_of_token_vec):\n",
        "    return sum(list_of_token_vec)/len(list_of_token_vec)"
      ]
    },
    {
      "cell_type": "code",
      "execution_count": 9,
      "metadata": {
        "pycharm": {}
      },
      "outputs": [],
      "source": [
        "def create_tf_idf_representation(descr):\n",
        "    tfidf_vector \u003d TfidfVectorizer(tokenizer\u003dcustom_tokenizer)\n",
        "    X \u003d tfidf_vector.fit_transform(descr)\n",
        "    return X"
      ]
    },
    {
      "cell_type": "code",
      "execution_count": 10,
      "metadata": {
        "pycharm": {}
      },
      "outputs": [],
      "source": [
        "TFIDF_repr \u003d create_tf_idf_representation(list(data.description))"
      ]
    },
    {
      "cell_type": "code",
      "execution_count": 60,
      "metadata": {
        "pycharm": {}
      },
      "outputs": [
        {
          "name": "stdout",
          "output_type": "stream",
          "text": [
            "TF-IDF representation shape\n"
          ]
        },
        {
          "data": {
            "text/plain": [
              "(494, 7701)"
            ]
          },
          "execution_count": 60,
          "metadata": {},
          "output_type": "execute_result"
        }
      ],
      "source": [
        "print(\u0027TF-IDF representation shape\u0027)\n",
        "TFIDF_repr.shape"
      ]
    },
    {
      "cell_type": "code",
      "execution_count": 58,
      "metadata": {
        "pycharm": {}
      },
      "outputs": [],
      "source": [
        "def get_len_tokens(single_desc): \n",
        "    tokens \u003d custom_tokenizer(single_desc)\n",
        "    return len(tokens)\n",
        "\n",
        "def visualize_token_size(description): \n",
        "    tokens_size \u003d [get_len_tokens(desc) for desc in description]\n",
        "    index \u003d np.arange(len(tokens_size))\n",
        "    plt.figure(figsize\u003d(15, 9))\n",
        "    plt.bar(index, tokens_size)\n",
        "    plt.xlabel(\u0027Index\u0027, fontsize\u003d10)\n",
        "    plt.ylabel(\u0027Number of extracted tokens\u0027, fontsize\u003d10)\n",
        "    plt.title(\u0027Number of words representing each company\u0027)\n",
        "    plt.show()"
      ]
    },
    {
      "cell_type": "code",
      "execution_count": 59,
      "metadata": {
        "scrolled": true,
        "pycharm": {}
      },
      "outputs": [
        {
          "data": {
            "image/png": "[encoded data removed]",
            "text/plain": [
              "\u003cFigure size 1080x648 with 1 Axes\u003e"
            ]
          },
          "metadata": {
            "needs_background": "light"
          },
          "output_type": "display_data"
        }
      ],
      "source": [
        "visualize_token_size(list(data.description))"
      ]
    },
    {
      "cell_type": "markdown",
      "metadata": {
        "pycharm": {}
      },
      "source": [
        "As we can see, the TFIDF vector is of size **7701**, but this is a very sparse representation. As we can see on visualization, most of the descriptions don\u0027t have more than **175** words (this might not be a unique word). Such representation as TF-IDF has bigger dictionary size that the number of data points we have, so we need to transform TD-IDF matrix to a less sparse representation of smaller dimensionality. \n",
        "The first alternative approach to try is Mean Word2Vec representation. The Spacy library already has a built-in vector representation of meaningful words. Every word is represented as a 300-dimensional vector (which is already of size smaller than dataset size). The mean of all extracted words is document representation. A critical thing about word2vec representation is that metrics in this space is a cosine similarity and that this representation knows about the relationship between words (so that synonyms are close in space). We can expect such representation to put similar descriptions close enough in space."
      ]
    },
    {
      "cell_type": "code",
      "execution_count": 30,
      "metadata": {
        "pycharm": {}
      },
      "outputs": [],
      "source": [
        "def get_w2v_representation(descr):\n",
        "    X\u003d[]\n",
        "    for doc in descr:\n",
        "        tok, vectors \u003d custom_vectorizer(doc)\n",
        "        feature_vec \u003d calc_mean_vect(vectors)\n",
        "        X.append(feature_vec)\n",
        "    return np.array(X)"
      ]
    },
    {
      "cell_type": "code",
      "execution_count": 31,
      "metadata": {
        "pycharm": {}
      },
      "outputs": [],
      "source": [
        "vect_representation \u003d get_w2v_representation(list(data.description))"
      ]
    },
    {
      "cell_type": "markdown",
      "metadata": {
        "pycharm": {}
      },
      "source": [
        "The other things to try that might improve representation is extracting key phrases instead of words by applying [rake_nltk ](https://pypi.org/project/rake-nltk/). "
      ]
    },
    {
      "cell_type": "markdown",
      "metadata": {
        "pycharm": {}
      },
      "source": [
        "## Clustering"
      ]
    },
    {
      "cell_type": "markdown",
      "metadata": {
        "pycharm": {}
      },
      "source": [
        "As our metric of representation set is cosine similarity, we have to use unsupervised clustering method, that supports cosine similarity.\n",
        "\n",
        "One of such methods is - **Hierarchical Clustering**.  This method treats each data point as one cluster at the beginning and then trying to update them into a given number of clusters. \n",
        "In our case, we don\u0027t know the expected number of clusters, the suggested way to understand the number of clusters in data - building the dendrogram."
      ]
    },
    {
      "cell_type": "code",
      "execution_count": 40,
      "metadata": {
        "scrolled": false,
        "pycharm": {}
      },
      "outputs": [
        {
          "data": {
            "image/png": "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\u003d\u003d\n",
            "text/plain": [
              "\u003cFigure size 1080x648 with 1 Axes\u003e"
            ]
          },
          "metadata": {
            "needs_background": "light"
          },
          "output_type": "display_data"
        }
      ],
      "source": [
        "import scipy.cluster.hierarchy as shc\n",
        "\n",
        "plt.figure(figsize\u003d(15, 9))\n",
        "plt.title(\"Description Dendogram\")\n",
        "dend \u003d shc.dendrogram(shc.linkage(vect_representation, metric\u003d\u0027cosine\u0027, method\u003d\u0027complete\u0027))"
      ]
    },
    {
      "cell_type": "markdown",
      "metadata": {
        "pycharm": {}
      },
      "source": [
        "This dendrogram shows that expected number of clusters is between 10 and 12. "
      ]
    },
    {
      "cell_type": "code",
      "execution_count": 65,
      "metadata": {
        "pycharm": {}
      },
      "outputs": [],
      "source": [
        "from sklearn.cluster import AgglomerativeClustering\n",
        "from sklearn import metrics"
      ]
    },
    {
      "cell_type": "code",
      "execution_count": 42,
      "metadata": {
        "pycharm": {}
      },
      "outputs": [],
      "source": [
        "def clusterize_data(data, num_clusters):\n",
        "    return AgglomerativeClustering(n_clusters\u003dnum_clusters,\n",
        "                                   affinity\u003d\u0027cosine\u0027,\n",
        "                                   linkage\u003d\u0027complete\u0027).fit(data)"
      ]
    },
    {
      "cell_type": "code",
      "execution_count": 82,
      "metadata": {
        "pycharm": {}
      },
      "outputs": [],
      "source": [
        "score \u003d []\n",
        "for k in range(9, 13, 1):\n",
        "    clustering \u003d clusterize_data(vect_representation, k)\n",
        "    results \u003d clustering.labels_\n",
        "    value \u003d metrics.silhouette_score(vect_representation, results, metric\u003d\u0027cosine\u0027)\n",
        "    score.append((k, value))"
      ]
    },
    {
      "cell_type": "code",
      "execution_count": 83,
      "metadata": {
        "scrolled": false,
        "pycharm": {}
      },
      "outputs": [
        {
          "name": "stdout",
          "output_type": "stream",
          "text": [
            "[(9, 0.22363767), (10, 0.22377396), (11, 0.25707957), (12, 0.25964725)]\n"
          ]
        }
      ],
      "source": [
        "print(score)"
      ]
    },
    {
      "cell_type": "markdown",
      "metadata": {
        "pycharm": {}
      },
      "source": [
        "As a metrics to evaluate better clusterization we can use *Silhouette Coefficient*. We will try different number of clusters and we can choose the clusterization with higest score. "
      ]
    },
    {
      "cell_type": "code",
      "execution_count": 46,
      "metadata": {
        "pycharm": {}
      },
      "outputs": [],
      "source": [
        "clustering \u003d clusterize_data(vect_representation, 11)\n",
        "results \u003d clustering.labels_"
      ]
    },
    {
      "cell_type": "markdown",
      "metadata": {
        "pycharm": {}
      },
      "source": [
        "Here when we move from 10 to 11, we can see result we would look for using the *Elbow method*. The sudden jump in metrics score. Any increase in number of clusters will increase the score. Here we can stop on **11 clusters**. "
      ]
    },
    {
      "cell_type": "code",
      "execution_count": 55,
      "metadata": {
        "pycharm": {}
      },
      "outputs": [],
      "source": [
        "data[\u0027Clustering\u0027] \u003d list(results)"
      ]
    },
    {
      "cell_type": "code",
      "execution_count": 92,
      "metadata": {
        "pycharm": {}
      },
      "outputs": [],
      "source": [
        "def save_result(data): \n",
        "    cut \u003d data.copy()\n",
        "    cut.drop([\u0027Name\u0027, \u0027description\u0027], axis\u003d1, inplace\u003dTrue)\n",
        "    cut.to_csv(path_to_save, index\u003dFalse)"
      ]
    },
    {
      "cell_type": "code",
      "execution_count": 93,
      "metadata": {
        "pycharm": {}
      },
      "outputs": [],
      "source": [
        "save_result(data, \u0027Clustering_results.csv\u0027)"
      ]
    },
    {
      "cell_type": "markdown",
      "metadata": {
        "pycharm": {}
      },
      "source": [
        "## Validation"
      ]
    },
    {
      "cell_type": "markdown",
      "metadata": {
        "pycharm": {}
      },
      "source": [
        "Another, a bit cheating way to validate the correctness of results is actually searching for company fields of S\u0026P 500 companies. So it was easy to google cvs file with tickers and company fields at [datahub.io](https://datahub.io/core/s-and-p-500-companies). We will read that data frame and megre them based on Symbol"
      ]
    },
    {
      "cell_type": "code",
      "execution_count": 94,
      "metadata": {
        "pycharm": {}
      },
      "outputs": [],
      "source": [
        "def merge_tables(data, new_data): \n",
        "    new_data.drop([\u0027Name\u0027], axis\u003d1, inplace\u003dTrue)\n",
        "    result \u003d pd.merge(data, new_data, on\u003d[\u0027Symbol\u0027, \u0027Symbol\u0027], how\u003d\u0027inner\u0027)\n",
        "    return result"
      ]
    },
    {
      "cell_type": "code",
      "execution_count": 95,
      "metadata": {
        "pycharm": {}
      },
      "outputs": [],
      "source": [
        "additional_data \u003d read_data(\u0027constituents_csv.csv\u0027, encoding\u003d\u0027utf-8\u0027)\n",
        "merged \u003d merge_tables(data, additional_data)"
      ]
    },
    {
      "cell_type": "code",
      "execution_count": 96,
      "metadata": {
        "pycharm": {}
      },
      "outputs": [
        {
          "data": {
            "text/html": [
              "\u003cdiv\u003e\n",
              "\u003cstyle scoped\u003e\n",
              "    .dataframe tbody tr th:only-of-type {\n",
              "        vertical-align: middle;\n",
              "    }\n",
              "\n",
              "    .dataframe tbody tr th {\n",
              "        vertical-align: top;\n",
              "    }\n",
              "\n",
              "    .dataframe thead th {\n",
              "        text-align: right;\n",
              "    }\n",
              "\u003c/style\u003e\n",
              "\u003ctable border\u003d\"1\" class\u003d\"dataframe\"\u003e\n",
              "  \u003cthead\u003e\n",
              "    \u003ctr style\u003d\"text-align: right;\"\u003e\n",
              "      \u003cth\u003e\u003c/th\u003e\n",
              "      \u003cth\u003eSymbol\u003c/th\u003e\n",
              "      \u003cth\u003eName\u003c/th\u003e\n",
              "      \u003cth\u003edescription\u003c/th\u003e\n",
              "      \u003cth\u003eClustering\u003c/th\u003e\n",
              "      \u003cth\u003eSector\u003c/th\u003e\n",
              "    \u003c/tr\u003e\n",
              "  \u003c/thead\u003e\n",
              "  \u003ctbody\u003e\n",
              "    \u003ctr\u003e\n",
              "      \u003cth\u003e0\u003c/th\u003e\n",
              "      \u003ctd\u003eMMM\u003c/td\u003e\n",
              "      \u003ctd\u003e3M Company\u003c/td\u003e\n",
              "      \u003ctd\u003e3M Company operates as a diversified technolog...\u003c/td\u003e\n",
              "      \u003ctd\u003e8\u003c/td\u003e\n",
              "      \u003ctd\u003eIndustrials\u003c/td\u003e\n",
              "    \u003c/tr\u003e\n",
              "    \u003ctr\u003e\n",
              "      \u003cth\u003e1\u003c/th\u003e\n",
              "      \u003ctd\u003eAOS\u003c/td\u003e\n",
              "      \u003ctd\u003eA.O. Smith Corp\u003c/td\u003e\n",
              "      \u003ctd\u003eA. O. Smith Corporation manufactures and marke...\u003c/td\u003e\n",
              "      \u003ctd\u003e10\u003c/td\u003e\n",
              "      \u003ctd\u003eIndustrials\u003c/td\u003e\n",
              "    \u003c/tr\u003e\n",
              "    \u003ctr\u003e\n",
              "      \u003cth\u003e2\u003c/th\u003e\n",
              "      \u003ctd\u003eABT\u003c/td\u003e\n",
              "      \u003ctd\u003eAbbott Laboratories\u003c/td\u003e\n",
              "      \u003ctd\u003eAbbott Laboratories discovers, develops, manuf...\u003c/td\u003e\n",
              "      \u003ctd\u003e7\u003c/td\u003e\n",
              "      \u003ctd\u003eHealth Care\u003c/td\u003e\n",
              "    \u003c/tr\u003e\n",
              "    \u003ctr\u003e\n",
              "      \u003cth\u003e3\u003c/th\u003e\n",
              "      \u003ctd\u003eABBV\u003c/td\u003e\n",
              "      \u003ctd\u003eAbbVie Inc.\u003c/td\u003e\n",
              "      \u003ctd\u003eAbbVie Inc. discovers, develops, manufactures,...\u003c/td\u003e\n",
              "      \u003ctd\u003e7\u003c/td\u003e\n",
              "      \u003ctd\u003eHealth Care\u003c/td\u003e\n",
              "    \u003c/tr\u003e\n",
              "    \u003ctr\u003e\n",
              "      \u003cth\u003e4\u003c/th\u003e\n",
              "      \u003ctd\u003eACN\u003c/td\u003e\n",
              "      \u003ctd\u003eAccenture plc\u003c/td\u003e\n",
              "      \u003ctd\u003eAccenture plc provides consulting, technology,...\u003c/td\u003e\n",
              "      \u003ctd\u003e2\u003c/td\u003e\n",
              "      \u003ctd\u003eInformation Technology\u003c/td\u003e\n",
              "    \u003c/tr\u003e\n",
              "    \u003ctr\u003e\n",
              "      \u003cth\u003e5\u003c/th\u003e\n",
              "      \u003ctd\u003eATVI\u003c/td\u003e\n",
              "      \u003ctd\u003eActivision Blizzard\u003c/td\u003e\n",
              "      \u003ctd\u003eActivision Blizzard, Inc. develops and distrib...\u003c/td\u003e\n",
              "      \u003ctd\u003e2\u003c/td\u003e\n",
              "      \u003ctd\u003eInformation Technology\u003c/td\u003e\n",
              "    \u003c/tr\u003e\n",
              "    \u003ctr\u003e\n",
              "      \u003cth\u003e6\u003c/th\u003e\n",
              "      \u003ctd\u003eAYI\u003c/td\u003e\n",
              "      \u003ctd\u003eAcuity Brands Inc\u003c/td\u003e\n",
              "      \u003ctd\u003eAcuity Brands, Inc. provides lighting and buil...\u003c/td\u003e\n",
              "      \u003ctd\u003e10\u003c/td\u003e\n",
              "      \u003ctd\u003eIndustrials\u003c/td\u003e\n",
              "    \u003c/tr\u003e\n",
              "    \u003ctr\u003e\n",
              "      \u003cth\u003e7\u003c/th\u003e\n",
              "      \u003ctd\u003eADBE\u003c/td\u003e\n",
              "      \u003ctd\u003eAdobe Systems Inc\u003c/td\u003e\n",
              "      \u003ctd\u003eAdobe Inc. operates as a diversified software ...\u003c/td\u003e\n",
              "      \u003ctd\u003e2\u003c/td\u003e\n",
              "      \u003ctd\u003eInformation Technology\u003c/td\u003e\n",
              "    \u003c/tr\u003e\n",
              "    \u003ctr\u003e\n",
              "      \u003cth\u003e8\u003c/th\u003e\n",
              "      \u003ctd\u003eAAP\u003c/td\u003e\n",
              "      \u003ctd\u003eAdvance Auto Parts\u003c/td\u003e\n",
              "      \u003ctd\u003eAdvance Auto Parts, Inc. provides automotive r...\u003c/td\u003e\n",
              "      \u003ctd\u003e8\u003c/td\u003e\n",
              "      \u003ctd\u003eConsumer Discretionary\u003c/td\u003e\n",
              "    \u003c/tr\u003e\n",
              "    \u003ctr\u003e\n",
              "      \u003cth\u003e9\u003c/th\u003e\n",
              "      \u003ctd\u003eAMD\u003c/td\u003e\n",
              "      \u003ctd\u003eAdvanced Micro Devices Inc\u003c/td\u003e\n",
              "      \u003ctd\u003eAdvanced Micro Devices, Inc. operates as a sem...\u003c/td\u003e\n",
              "      \u003ctd\u003e2\u003c/td\u003e\n",
              "      \u003ctd\u003eInformation Technology\u003c/td\u003e\n",
              "    \u003c/tr\u003e\n",
              "    \u003ctr\u003e\n",
              "      \u003cth\u003e10\u003c/th\u003e\n",
              "      \u003ctd\u003eAES\u003c/td\u003e\n",
              "      \u003ctd\u003eAES Corp\u003c/td\u003e\n",
              "      \u003ctd\u003eThe AES Corporation operates as a diversified ...\u003c/td\u003e\n",
              "      \u003ctd\u003e10\u003c/td\u003e\n",
              "      \u003ctd\u003eUtilities\u003c/td\u003e\n",
              "    \u003c/tr\u003e\n",
              "    \u003ctr\u003e\n",
              "      \u003cth\u003e11\u003c/th\u003e\n",
              "      \u003ctd\u003eAET\u003c/td\u003e\n",
              "      \u003ctd\u003eAetna Inc\u003c/td\u003e\n",
              "      \u003ctd\u003eAetna Inc. operates as a health care benefits ...\u003c/td\u003e\n",
              "      \u003ctd\u003e0\u003c/td\u003e\n",
              "      \u003ctd\u003eHealth Care\u003c/td\u003e\n",
              "    \u003c/tr\u003e\n",
              "    \u003ctr\u003e\n",
              "      \u003cth\u003e12\u003c/th\u003e\n",
              "      \u003ctd\u003eAMG\u003c/td\u003e\n",
              "      \u003ctd\u003eAffiliated Managers Group Inc\u003c/td\u003e\n",
              "      \u003ctd\u003eAffiliated Managers Group, Inc., through its a...\u003c/td\u003e\n",
              "      \u003ctd\u003e0\u003c/td\u003e\n",
              "      \u003ctd\u003eFinancials\u003c/td\u003e\n",
              "    \u003c/tr\u003e\n",
              "    \u003ctr\u003e\n",
              "      \u003cth\u003e13\u003c/th\u003e\n",
              "      \u003ctd\u003eAFL\u003c/td\u003e\n",
              "      \u003ctd\u003eAFLAC Inc\u003c/td\u003e\n",
              "      \u003ctd\u003eAflac Incorporated, through its subsidiary, Am...\u003c/td\u003e\n",
              "      \u003ctd\u003e0\u003c/td\u003e\n",
              "      \u003ctd\u003eFinancials\u003c/td\u003e\n",
              "    \u003c/tr\u003e\n",
              "    \u003ctr\u003e\n",
              "      \u003cth\u003e14\u003c/th\u003e\n",
              "      \u003ctd\u003eA\u003c/td\u003e\n",
              "      \u003ctd\u003eAgilent Technologies Inc\u003c/td\u003e\n",
              "      \u003ctd\u003eAgilent Technologies, Inc. provides applicatio...\u003c/td\u003e\n",
              "      \u003ctd\u003e3\u003c/td\u003e\n",
              "      \u003ctd\u003eHealth Care\u003c/td\u003e\n",
              "    \u003c/tr\u003e\n",
              "    \u003ctr\u003e\n",
              "      \u003cth\u003e15\u003c/th\u003e\n",
              "      \u003ctd\u003eAPD\u003c/td\u003e\n",
              "      \u003ctd\u003eAir Products \u0026amp; Chemicals Inc\u003c/td\u003e\n",
              "      \u003ctd\u003eAir Products and Chemicals, Inc. provides atmo...\u003c/td\u003e\n",
              "      \u003ctd\u003e1\u003c/td\u003e\n",
              "      \u003ctd\u003eMaterials\u003c/td\u003e\n",
              "    \u003c/tr\u003e\n",
              "    \u003ctr\u003e\n",
              "      \u003cth\u003e16\u003c/th\u003e\n",
              "      \u003ctd\u003eAKAM\u003c/td\u003e\n",
              "      \u003ctd\u003eAkamai Technologies Inc\u003c/td\u003e\n",
              "      \u003ctd\u003eAkamai Technologies, Inc. provides cloud servi...\u003c/td\u003e\n",
              "      \u003ctd\u003e2\u003c/td\u003e\n",
              "      \u003ctd\u003eInformation Technology\u003c/td\u003e\n",
              "    \u003c/tr\u003e\n",
              "    \u003ctr\u003e\n",
              "      \u003cth\u003e17\u003c/th\u003e\n",
              "      \u003ctd\u003eALK\u003c/td\u003e\n",
              "      \u003ctd\u003eAlaska Air Group Inc\u003c/td\u003e\n",
              "      \u003ctd\u003eAlaska Air Group, Inc., through its subsidiari...\u003c/td\u003e\n",
              "      \u003ctd\u003e10\u003c/td\u003e\n",
              "      \u003ctd\u003eIndustrials\u003c/td\u003e\n",
              "    \u003c/tr\u003e\n",
              "    \u003ctr\u003e\n",
              "      \u003cth\u003e18\u003c/th\u003e\n",
              "      \u003ctd\u003eALB\u003c/td\u003e\n",
              "      \u003ctd\u003eAlbemarle Corp\u003c/td\u003e\n",
              "      \u003ctd\u003eAlbemarle Corporation develops, manufactures, ...\u003c/td\u003e\n",
              "      \u003ctd\u003e1\u003c/td\u003e\n",
              "      \u003ctd\u003eMaterials\u003c/td\u003e\n",
              "    \u003c/tr\u003e\n",
              "    \u003ctr\u003e\n",
              "      \u003cth\u003e19\u003c/th\u003e\n",
              "      \u003ctd\u003eARE\u003c/td\u003e\n",
              "      \u003ctd\u003eAlexandria Real Estate Equities Inc\u003c/td\u003e\n",
              "      \u003ctd\u003eAlexandria Real Estate Equities, Inc. (NYSE:AR...\u003c/td\u003e\n",
              "      \u003ctd\u003e0\u003c/td\u003e\n",
              "      \u003ctd\u003eReal Estate\u003c/td\u003e\n",
              "    \u003c/tr\u003e\n",
              "  \u003c/tbody\u003e\n",
              "\u003c/table\u003e\n",
              "\u003c/div\u003e"
            ],
            "text/plain": [
              "   Symbol                                 Name  \\\n",
              "0     MMM                           3M Company   \n",
              "1     AOS                      A.O. Smith Corp   \n",
              "2     ABT                  Abbott Laboratories   \n",
              "3    ABBV                          AbbVie Inc.   \n",
              "4     ACN                        Accenture plc   \n",
              "5    ATVI                  Activision Blizzard   \n",
              "6     AYI                    Acuity Brands Inc   \n",
              "7    ADBE                    Adobe Systems Inc   \n",
              "8     AAP                   Advance Auto Parts   \n",
              "9     AMD           Advanced Micro Devices Inc   \n",
              "10    AES                             AES Corp   \n",
              "11    AET                            Aetna Inc   \n",
              "12    AMG        Affiliated Managers Group Inc   \n",
              "13    AFL                            AFLAC Inc   \n",
              "14      A             Agilent Technologies Inc   \n",
              "15    APD         Air Products \u0026 Chemicals Inc   \n",
              "16   AKAM              Akamai Technologies Inc   \n",
              "17    ALK                 Alaska Air Group Inc   \n",
              "18    ALB                       Albemarle Corp   \n",
              "19    ARE  Alexandria Real Estate Equities Inc   \n",
              "\n",
              "                                          description  Clustering  \\\n",
              "0   3M Company operates as a diversified technolog...           8   \n",
              "1   A. O. Smith Corporation manufactures and marke...          10   \n",
              "2   Abbott Laboratories discovers, develops, manuf...           7   \n",
              "3   AbbVie Inc. discovers, develops, manufactures,...           7   \n",
              "4   Accenture plc provides consulting, technology,...           2   \n",
              "5   Activision Blizzard, Inc. develops and distrib...           2   \n",
              "6   Acuity Brands, Inc. provides lighting and buil...          10   \n",
              "7   Adobe Inc. operates as a diversified software ...           2   \n",
              "8   Advance Auto Parts, Inc. provides automotive r...           8   \n",
              "9   Advanced Micro Devices, Inc. operates as a sem...           2   \n",
              "10  The AES Corporation operates as a diversified ...          10   \n",
              "11  Aetna Inc. operates as a health care benefits ...           0   \n",
              "12  Affiliated Managers Group, Inc., through its a...           0   \n",
              "13  Aflac Incorporated, through its subsidiary, Am...           0   \n",
              "14  Agilent Technologies, Inc. provides applicatio...           3   \n",
              "15  Air Products and Chemicals, Inc. provides atmo...           1   \n",
              "16  Akamai Technologies, Inc. provides cloud servi...           2   \n",
              "17  Alaska Air Group, Inc., through its subsidiari...          10   \n",
              "18  Albemarle Corporation develops, manufactures, ...           1   \n",
              "19  Alexandria Real Estate Equities, Inc. (NYSE:AR...           0   \n",
              "\n",
              "                    Sector  \n",
              "0              Industrials  \n",
              "1              Industrials  \n",
              "2              Health Care  \n",
              "3              Health Care  \n",
              "4   Information Technology  \n",
              "5   Information Technology  \n",
              "6              Industrials  \n",
              "7   Information Technology  \n",
              "8   Consumer Discretionary  \n",
              "9   Information Technology  \n",
              "10               Utilities  \n",
              "11             Health Care  \n",
              "12              Financials  \n",
              "13              Financials  \n",
              "14             Health Care  \n",
              "15               Materials  \n",
              "16  Information Technology  \n",
              "17             Industrials  \n",
              "18               Materials  \n",
              "19             Real Estate  "
            ]
          },
          "execution_count": 96,
          "metadata": {},
          "output_type": "execute_result"
        }
      ],
      "source": [
        "merged.head(20)"
      ]
    },
    {
      "cell_type": "markdown",
      "metadata": {
        "pycharm": {}
      },
      "source": [
        "# Conclusions\n",
        "\n",
        "The number of clusters predicted by *Elbow method with Silhouette Coefficient as metrics* is the same as real S\u0026P 500 fields. \n",
        "\n",
        "The possible improvement can be done by appling rake_nltk for extracting key-phrases instead of words, also more metrix on tokens, such as TF itself, so we could build representation based on key words. Other thing to try might be appling pretrained Doc2Vec insted of mean word2vec.  \n",
        "Other thing to try might be other clustering techiques, but we should be realy careful with a metrics in feature space. "
      ]
    }
  ],
  "metadata": {
    "kernelspec": {
      "display_name": "Python 3",
      "language": "python",
      "name": "python3"
    },
    "language_info": {
      "codemirror_mode": {
        "name": "ipython",
        "version": 3
      },
      "file_extension": ".py",
      "mimetype": "text/x-python",
      "name": "python",
      "nbconvert_exporter": "python",
      "pygments_lexer": "ipython3",
      "version": "3.6.5"
    }
  },
  "nbformat": 4,
  "nbformat_minor": 2
}